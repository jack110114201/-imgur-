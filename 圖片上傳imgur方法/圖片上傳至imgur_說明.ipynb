{
 "cells": [
  {
   "cell_type": "markdown",
   "id": "048c6828",
   "metadata": {},
   "source": [
    "### 安裝 imgurpython 才可以使用官方的api"
   ]
  },
  {
   "cell_type": "code",
   "execution_count": 2,
   "id": "fc802559",
   "metadata": {},
   "outputs": [
    {
     "name": "stdout",
     "output_type": "stream",
     "text": [
      "Defaulting to user installation because normal site-packages is not writeable\n",
      "Collecting imgurpython\n",
      "  Downloading imgurpython-1.1.7.tar.gz (8.4 kB)\n",
      "Requirement already satisfied: requests in c:\\users\\tibame_25\\appdata\\roaming\\python\\python39\\site-packages (from imgurpython) (2.25.1)\n",
      "Requirement already satisfied: urllib3<1.27,>=1.21.1 in c:\\users\\tibame_25\\appdata\\roaming\\python\\python39\\site-packages (from requests->imgurpython) (1.26.4)\n",
      "Requirement already satisfied: certifi>=2017.4.17 in c:\\users\\tibame_25\\appdata\\roaming\\python\\python39\\site-packages (from requests->imgurpython) (2020.12.5)\n",
      "Requirement already satisfied: idna<3,>=2.5 in c:\\users\\tibame_25\\appdata\\roaming\\python\\python39\\site-packages (from requests->imgurpython) (2.10)\n",
      "Requirement already satisfied: chardet<5,>=3.0.2 in c:\\users\\tibame_25\\appdata\\roaming\\python\\python39\\site-packages (from requests->imgurpython) (4.0.0)\n",
      "Using legacy 'setup.py install' for imgurpython, since package 'wheel' is not installed.\n",
      "Installing collected packages: imgurpython\n",
      "    Running setup.py install for imgurpython: started\n",
      "    Running setup.py install for imgurpython: finished with status 'done'\n",
      "Successfully installed imgurpython-1.1.7\n"
     ]
    },
    {
     "name": "stderr",
     "output_type": "stream",
     "text": [
      "WARNING: You are using pip version 21.1.2; however, version 21.1.3 is available.\n",
      "You should consider upgrading via the 'c:\\program files\\python39\\python.exe -m pip install --upgrade pip' command.\n"
     ]
    }
   ],
   "source": [
    "!pip install imgurpython"
   ]
  },
  {
   "cell_type": "markdown",
   "id": "9b980aa7",
   "metadata": {},
   "source": [
    "### 官方文件 : https://api.imgur.com/\n",
    "### 一些指令 : https://github.com/Imgur/imgurpython\n",
    "### imgur官網 : https://imgur.com/\n",
    "### 參考網站: \n",
    "- https://ithelp.ithome.com.tw/articles/10241006\n",
    "- https://github.com/twtrubiks/line-bot-imgur-tutorial/blob/master/app.py\n"
   ]
  },
  {
   "cell_type": "markdown",
   "id": "8e02b958",
   "metadata": {},
   "source": [
    "### --------------------------------------------------------------------------------------------------------------------------------------------------------"
   ]
  },
  {
   "cell_type": "markdown",
   "id": "4bb690d8",
   "metadata": {},
   "source": [
    "### client_id、client_secret 在imgur網站就可以取得"
   ]
  },
  {
   "cell_type": "markdown",
   "id": "3aabae63",
   "metadata": {},
   "source": [
    "### 在建立帳號密碼的時候，會告訴你client_id、client_secret\n",
    "### 如果當時沒有記下來，可以使用以下步驟找到client_id，並重新取得一個新的client_secret"
   ]
  },
  {
   "cell_type": "markdown",
   "id": "a8ece740",
   "metadata": {},
   "source": [
    "### 進入官網首頁登入帳號後，點選右上角圓圈圈的圖，並點選setting"
   ]
  },
  {
   "cell_type": "markdown",
   "id": "3678659f",
   "metadata": {},
   "source": [
    "![title](首頁.png)"
   ]
  },
  {
   "cell_type": "markdown",
   "id": "1e9de0c8",
   "metadata": {},
   "source": [
    "### 接下來點選Applications\n",
    "### 會顯示你使用帳號的Client ID\n",
    "### 由於不會顯示Client Secret，因此重新取得即可"
   ]
  },
  {
   "cell_type": "markdown",
   "id": "d1a9095e",
   "metadata": {},
   "source": [
    "![title](client_id&secret.png)"
   ]
  },
  {
   "cell_type": "markdown",
   "id": "67c04e6c",
   "metadata": {},
   "source": [
    "### 取得client_id、client_secret後，測試連線是否正常"
   ]
  },
  {
   "cell_type": "code",
   "execution_count": 4,
   "id": "cc5b8f64",
   "metadata": {},
   "outputs": [
    {
     "name": "stdout",
     "output_type": "stream",
     "text": [
      "https://imgur.com/a/x53oPox\n",
      "https://imgur.com/a/41jDZTt\n",
      "https://imgur.com/a/ViSf3Pv\n",
      "https://imgur.com/a/1iBK2N2\n",
      "https://imgur.com/a/zcKVUln\n",
      "https://imgur.com/a/qeXwxC4\n",
      "https://imgur.com/a/7zIiVo2\n",
      "https://imgur.com/a/Hxo9SJS\n",
      "https://imgur.com/a/LrQsU4i\n",
      "https://imgur.com/a/xFbk3dV\n",
      "https://imgur.com/a/3SNk4tx\n",
      "https://imgur.com/a/TK6O0UG\n",
      "https://imgur.com/a/fITKpZi\n",
      "https://imgur.com/a/Y8XkayQ\n",
      "https://imgur.com/a/ZQvM0bK\n",
      "https://imgur.com/a/LUUbfAW\n",
      "https://imgur.com/a/69MlwLN\n",
      "https://imgur.com/a/DC0ZJPW\n",
      "https://imgur.com/a/HrrjvRY\n",
      "https://imgur.com/a/t38oXg0\n",
      "https://imgur.com/a/aPaGSZs\n",
      "https://i.imgur.com/BVvUlMO.png\n",
      "https://imgur.com/a/26qFzNn\n",
      "https://imgur.com/a/3zBEllK\n",
      "https://imgur.com/a/bSezkCI\n",
      "https://imgur.com/a/QS2kvqS\n",
      "https://imgur.com/a/F0o3NUx\n",
      "https://imgur.com/a/sYDXmOq\n",
      "https://imgur.com/a/c8mR4tv\n",
      "https://imgur.com/a/8RTJYdk\n",
      "https://imgur.com/a/SmGEXOi\n",
      "https://imgur.com/a/RELyift\n",
      "https://imgur.com/a/C1dryXW\n",
      "https://imgur.com/a/06yjAtF\n",
      "https://imgur.com/a/zO9RjhX\n",
      "https://imgur.com/a/hjQZFBA\n",
      "https://imgur.com/a/yL6iaZa\n",
      "https://imgur.com/a/nMotXUv\n",
      "https://imgur.com/a/Ab9auOz\n",
      "https://imgur.com/a/XsYIgZj\n",
      "https://imgur.com/a/ITVMVse\n",
      "https://imgur.com/a/q30kT1d\n",
      "https://imgur.com/a/Oq7zTz9\n",
      "https://imgur.com/a/lGWM18O\n",
      "https://imgur.com/a/heJwLcT\n",
      "https://imgur.com/a/FFUjOve\n",
      "https://imgur.com/a/vbp72Gf\n",
      "https://imgur.com/a/IroWwsQ\n",
      "https://imgur.com/a/Rkj3rD3\n",
      "https://imgur.com/a/lCIL4Gu\n",
      "https://imgur.com/a/AwL8d44\n",
      "https://imgur.com/a/8p6b75w\n",
      "https://imgur.com/a/rStvoxU\n",
      "https://imgur.com/a/9ubMbCb\n",
      "https://imgur.com/a/oA5RvgN\n",
      "https://imgur.com/a/Z99vWYA\n",
      "https://i.imgur.com/fdnrDzV.png\n",
      "https://imgur.com/a/0ezmfbF\n",
      "https://imgur.com/a/rg1iuny\n",
      "https://imgur.com/a/x723Yw8\n"
     ]
    }
   ],
   "source": [
    "from imgurpython import ImgurClient\n",
    "\n",
    "client_id = 'c4e692f0b51a5e5'\n",
    "client_secret = '68d9924732679e755b62afe07667b52f557c4545'\n",
    "\n",
    "client = ImgurClient(client_id, client_secret)\n",
    "\n",
    "# Example request\n",
    "items = client.gallery()\n",
    "for item in items:\n",
    "    print(item.link)"
   ]
  },
  {
   "cell_type": "markdown",
   "id": "bc8ba6b9",
   "metadata": {},
   "source": [
    "### 要把圖片上傳至 imgur，需要先取得client_id、client_secret、access_token、refresh_token\n",
    "### access_token 及 refresh_token 必須透過下方程式取得"
   ]
  },
  {
   "cell_type": "markdown",
   "id": "9b7c260e",
   "metadata": {},
   "source": [
    "### 首先建立連線"
   ]
  },
  {
   "cell_type": "code",
   "execution_count": 5,
   "id": "56fda69b",
   "metadata": {},
   "outputs": [],
   "source": [
    "from imgurpython import ImgurClient\n",
    "\n",
    "# 先輸入 client_id及 client_secret (imgur網站查)\n",
    "client_id = 'c4e692f0b51a5e5'\n",
    "client_secret = '68d9924732679e755b62afe07667b52f557c4545'\n",
    "\n",
    "client = ImgurClient(client_id, client_secret)"
   ]
  },
  {
   "cell_type": "markdown",
   "id": "1a55e807",
   "metadata": {},
   "source": [
    "### 利用 client.get_auth_url('pin') 取得一串用來認證的網址"
   ]
  },
  {
   "cell_type": "code",
   "execution_count": 9,
   "id": "c594ee5c",
   "metadata": {},
   "outputs": [
    {
     "name": "stdout",
     "output_type": "stream",
     "text": [
      "https://api.imgur.com/oauth2/authorize?client_id=c4e692f0b51a5e5&response_type=pin\n"
     ]
    }
   ],
   "source": [
    "# Authorization flow, pin example (see docs for other auth types)\n",
    "authorization_url = client.get_auth_url('pin')\n",
    "print(authorization_url)"
   ]
  },
  {
   "cell_type": "markdown",
   "id": "4e8b904a",
   "metadata": {},
   "source": [
    "### 把取得的網址丟到瀏覽器，會跑到授權的頁面"
   ]
  },
  {
   "cell_type": "markdown",
   "id": "cf63dee6",
   "metadata": {},
   "source": [
    "![title](test1.png)"
   ]
  },
  {
   "cell_type": "markdown",
   "id": "2a134fd7",
   "metadata": {},
   "source": [
    "### 點選allow後，會取得一串PIN碼"
   ]
  },
  {
   "cell_type": "markdown",
   "id": "b0a2c71d",
   "metadata": {},
   "source": [
    "![title](test2.png)"
   ]
  },
  {
   "cell_type": "markdown",
   "id": "af049cde",
   "metadata": {},
   "source": [
    "### 取得pin碼後，利用client.authorize('pin 碼') 取得access_token及refresh_token\n",
    "- pin 碼 run過code後，就會失效。\n",
    "- 如果再執行一次會發生error"
   ]
  },
  {
   "cell_type": "code",
   "execution_count": 10,
   "id": "984c3f27",
   "metadata": {},
   "outputs": [
    {
     "data": {
      "text/plain": [
       "{'access_token': '6d5afda92f46ad352784da1d2f7d23e4670783df',\n",
       " 'expires_in': 315360000,\n",
       " 'token_type': 'bearer',\n",
       " 'scope': None,\n",
       " 'refresh_token': '0369d1d6c4fbcc72d95af6f82dd2fab63a6e28a0',\n",
       " 'account_id': 151530816,\n",
       " 'account_username': 'tfb102'}"
      ]
     },
     "execution_count": 10,
     "metadata": {},
     "output_type": "execute_result"
    }
   ],
   "source": [
    "# ... redirect user to `authorization_url`, obtain pin (or code or token) ...\n",
    "credentials = client.authorize('05d1a18268')\n",
    "credentials"
   ]
  },
  {
   "cell_type": "code",
   "execution_count": null,
   "id": "2033df67",
   "metadata": {},
   "outputs": [],
   "source": [
    "#client.set_user_auth(credentials['access_token'], credentials['refresh_token'])"
   ]
  },
  {
   "cell_type": "markdown",
   "id": "a64a55f8",
   "metadata": {},
   "source": [
    "### 取得我們要的資訊後，再次建立連線\n",
    "### 由於取得access_token及refresh_token的步驟，只需要跑過一次即可\n",
    "### 因此，如果已取得access_token及refresh_token，直接從這邊開始執行即可"
   ]
  },
  {
   "cell_type": "code",
   "execution_count": 13,
   "id": "7129277d",
   "metadata": {},
   "outputs": [],
   "source": [
    "from imgurpython import ImgurClient\n",
    "\n",
    "# If you already have an access/refresh pair in hand\n",
    "client_id ='c4e692f0b51a5e5'\n",
    "client_secret = '68d9924732679e755b62afe07667b52f557c4545'\n",
    "access_token = \"58b6fd480fed3ee78a6ead0805e18bb84d9be3b2\"\n",
    "refresh_token = \"313439c656aee756fc361a5e5ac6db036fda5ea6\"\n",
    "\n",
    "# Note since access tokens expire after an hour, only the refresh token is required (library handles autorefresh)\n",
    "client = ImgurClient(client_id, client_secret, access_token, refresh_token)"
   ]
  },
  {
   "cell_type": "markdown",
   "id": "2b009844",
   "metadata": {},
   "source": [
    "### 建立連線後，就要開始把圖片檔upload到imgur網站上去\n",
    "### 首先先建立一個config的dictionary\n",
    "- 其中album的 value 是在imgur中建立相簿的 album id\n",
    "- name的value 是指在imgur中建立相簿的名稱\n",
    "- title及description 可以是任意字串"
   ]
  },
  {
   "cell_type": "markdown",
   "id": "2f1a2a6c",
   "metadata": {},
   "source": [
    "### album id的查詢方法"
   ]
  },
  {
   "cell_type": "markdown",
   "id": "edccdd71",
   "metadata": {},
   "source": [
    "### 點選Images"
   ]
  },
  {
   "cell_type": "markdown",
   "id": "271eda33",
   "metadata": {},
   "source": [
    "![title](image_1.png)"
   ]
  },
  {
   "cell_type": "markdown",
   "id": "7aa6340b",
   "metadata": {},
   "source": [
    "### 點選All images，並選取你之後要用的相簿"
   ]
  },
  {
   "cell_type": "markdown",
   "id": "5597b769",
   "metadata": {},
   "source": [
    "![title](image_2.png)"
   ]
  },
  {
   "cell_type": "markdown",
   "id": "d92f1510",
   "metadata": {},
   "source": [
    "### 進入相簿後，點選Edit this album，並點選Embed Album"
   ]
  },
  {
   "cell_type": "markdown",
   "id": "906a0b6f",
   "metadata": {},
   "source": [
    "![title](image_3.png)"
   ]
  },
  {
   "cell_type": "markdown",
   "id": "d0f260cd",
   "metadata": {},
   "source": [
    "### 點選後會跑出Embed Code\n",
    "### Album_id 就在 data-id = \"a/xxxxxx\"，我們只需要取xxxxx的部分"
   ]
  },
  {
   "cell_type": "markdown",
   "id": "cf6d4b9b",
   "metadata": {},
   "source": [
    "![title](image_4.png)"
   ]
  },
  {
   "cell_type": "markdown",
   "id": "772cc8ab",
   "metadata": {},
   "source": [
    "### 建立完config後，利用client.upload_from_path('要上傳的檔案路徑',config,anon=False)"
   ]
  },
  {
   "cell_type": "code",
   "execution_count": 15,
   "id": "d6aa247d",
   "metadata": {},
   "outputs": [
    {
     "data": {
      "text/plain": [
       "{'id': 'h0Yu2bL',\n",
       " 'deletehash': 'BOAYDJ68sItTySE',\n",
       " 'account_id': 151530816,\n",
       " 'account_url': 'tfb102',\n",
       " 'ad_type': None,\n",
       " 'ad_url': None,\n",
       " 'title': '123132',\n",
       " 'description': 'test-2021-06-30 21:28:16.810787',\n",
       " 'name': 'tfb102_project',\n",
       " 'type': 'image/png',\n",
       " 'width': 370,\n",
       " 'height': 347,\n",
       " 'size': 28552,\n",
       " 'views': 0,\n",
       " 'section': None,\n",
       " 'vote': None,\n",
       " 'bandwidth': 0,\n",
       " 'animated': False,\n",
       " 'favorite': False,\n",
       " 'in_gallery': False,\n",
       " 'in_most_viral': False,\n",
       " 'has_sound': False,\n",
       " 'is_ad': False,\n",
       " 'nsfw': None,\n",
       " 'link': 'https://i.imgur.com/h0Yu2bL.png',\n",
       " 'tags': [],\n",
       " 'datetime': 1625059699,\n",
       " 'mp4': '',\n",
       " 'hls': ''}"
      ]
     },
     "execution_count": 15,
     "metadata": {},
     "output_type": "execute_result"
    }
   ],
   "source": [
    "from datetime import datetime\n",
    "config = {\n",
    "        'album': \"NCnoMLS\",\n",
    "        'name': 'tfb102_project',\n",
    "        'title': '123132',\n",
    "        'description': f'test-{datetime.now()}'\n",
    "    }\n",
    "#client.album_add_images('NCnoMLS', 'https://i.imgur.com/sfHi8QK.png')\n",
    "client.upload_from_path('test.jpg', config=config, anon=False)"
   ]
  },
  {
   "cell_type": "code",
   "execution_count": null,
   "id": "279c51ea",
   "metadata": {},
   "outputs": [],
   "source": [
    "from imgurpython import ImgurClient\n",
    "from datetime import datetime\n",
    "import json\n",
    "import os\n",
    "\n",
    "secretFile = json.load(open(\"secretFile.txt\",'r'))\n",
    "\n",
    "client_id = secretFile['imgur_client_id']\n",
    "client_secret = secretFile['imgur_client_secret']\n",
    "access_token = secretFile['imgur_access_token']\n",
    "refresh_token = secretFile['imgur_refresh_token']\n",
    "client = ImgurClient(client_id, client_secret, access_token, refresh_token)\n",
    "\n",
    "def image_upload(image_path,config_album,config_name,config_title,config_description=f'test-{datetime.now()}'):\n",
    "    config = {\n",
    "        'album': config_album,\n",
    "        'name': config_name,\n",
    "        'title': config_title,\n",
    "        'description': config_description}\n",
    "    print(\"Prepare to uploading image...\")\n",
    "    image_info = client.upload_from_path(image_path, config=config, anon=False)\n",
    "    print(\"Done\")\n",
    "    return image_info\n",
    "\n",
    "if __name__ == '__main__()':\n",
    "    image_upload(image_path,config_album,config_name,config_title,config_description=f'test-{datetime.now()}')"
   ]
  }
 ],
 "metadata": {
  "kernelspec": {
   "display_name": "Python 3",
   "language": "python",
   "name": "python3"
  },
  "language_info": {
   "codemirror_mode": {
    "name": "ipython",
    "version": 3
   },
   "file_extension": ".py",
   "mimetype": "text/x-python",
   "name": "python",
   "nbconvert_exporter": "python",
   "pygments_lexer": "ipython3",
   "version": "3.9.4"
  }
 },
 "nbformat": 4,
 "nbformat_minor": 5
}
