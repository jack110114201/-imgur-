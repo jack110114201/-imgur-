{
 "cells": [
  {
   "cell_type": "code",
   "execution_count": 6,
   "id": "18ef2af4",
   "metadata": {},
   "outputs": [],
   "source": [
    "from test import image_upload"
   ]
  },
  {
   "cell_type": "code",
   "execution_count": 7,
   "id": "3cefed28",
   "metadata": {},
   "outputs": [
    {
     "name": "stdout",
     "output_type": "stream",
     "text": [
      "Prepare to uploading image...\n",
      "Done\n"
     ]
    }
   ],
   "source": [
    "image = image_upload('image_1.png',\"NCnoMLS\",'tfb102_project','for test')"
   ]
  },
  {
   "cell_type": "code",
   "execution_count": 8,
   "id": "673fe9a6",
   "metadata": {},
   "outputs": [
    {
     "data": {
      "text/plain": [
       "{'id': 'q76r1IA',\n",
       " 'deletehash': 'xNUL0JOUGkVsPX7',\n",
       " 'account_id': 151530816,\n",
       " 'account_url': 'tfb102',\n",
       " 'ad_type': None,\n",
       " 'ad_url': None,\n",
       " 'title': 'for test',\n",
       " 'description': 'test-2021-07-01 17:23:24.669509',\n",
       " 'name': 'tfb102_project',\n",
       " 'type': 'image/png',\n",
       " 'width': 1891,\n",
       " 'height': 599,\n",
       " 'size': 412795,\n",
       " 'views': 0,\n",
       " 'section': None,\n",
       " 'vote': None,\n",
       " 'bandwidth': 0,\n",
       " 'animated': False,\n",
       " 'favorite': False,\n",
       " 'in_gallery': False,\n",
       " 'in_most_viral': False,\n",
       " 'has_sound': False,\n",
       " 'is_ad': False,\n",
       " 'nsfw': None,\n",
       " 'link': 'https://i.imgur.com/q76r1IA.png',\n",
       " 'tags': [],\n",
       " 'datetime': 1625131553,\n",
       " 'mp4': '',\n",
       " 'hls': ''}"
      ]
     },
     "execution_count": 8,
     "metadata": {},
     "output_type": "execute_result"
    }
   ],
   "source": [
    "image"
   ]
  }
 ],
 "metadata": {
  "kernelspec": {
   "display_name": "Python 3",
   "language": "python",
   "name": "python3"
  },
  "language_info": {
   "codemirror_mode": {
    "name": "ipython",
    "version": 3
   },
   "file_extension": ".py",
   "mimetype": "text/x-python",
   "name": "python",
   "nbconvert_exporter": "python",
   "pygments_lexer": "ipython3",
   "version": "3.9.4"
  }
 },
 "nbformat": 4,
 "nbformat_minor": 5
}
